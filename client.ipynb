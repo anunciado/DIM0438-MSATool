{
 "cells": [
  {
   "cell_type": "code",
   "execution_count": null,
   "metadata": {},
   "outputs": [
    {
     "name": "stdout",
     "output_type": "stream",
     "text": [
      "Enter Something: oi\n",
      "This is a response.\n"
     ]
    }
   ],
   "source": [
    "import ssl\n",
    "\n",
    "port = 8100\n",
    "\n",
    "import socket, ssl\n",
    "\n",
    "while True:\n",
    "\n",
    "    s = socket.socket(socket.AF_INET, socket.SOCK_STREAM)\n",
    "\n",
    "    # Require a certificate from the server. We used a self-signed certificate\n",
    "    # so here ca_certs must be the server certificate itself.\n",
    "    ssl_sock = ssl.wrap_socket(s,cert_reqs=ssl.CERT_REQUIRED, ca_certs='server_cert.pem')\n",
    "\n",
    "    ssl_sock.connect(('127.0.0.1', 8100))\n",
    "\n",
    "    ssl_sock.write(str(input(\"Enter Something: \")).encode())\n",
    "    \n",
    "    data = ssl_sock.recv(8192)\n",
    "    \n",
    "    print(data.decode(\"utf-8\"))\n",
    "\n",
    "    ssl_sock.close()"
   ]
  },
  {
   "cell_type": "code",
   "execution_count": null,
   "metadata": {},
   "outputs": [],
   "source": []
  }
 ],
 "metadata": {
  "kernelspec": {
   "display_name": "Python 3",
   "language": "python",
   "name": "python3"
  },
  "language_info": {
   "codemirror_mode": {
    "name": "ipython",
    "version": 3
   },
   "file_extension": ".py",
   "mimetype": "text/x-python",
   "name": "python",
   "nbconvert_exporter": "python",
   "pygments_lexer": "ipython3",
   "version": "3.6.5"
  }
 },
 "nbformat": 4,
 "nbformat_minor": 2
}
