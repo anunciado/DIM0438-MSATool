{
 "cells": [
  {
   "cell_type": "code",
   "execution_count": null,
   "metadata": {},
   "outputs": [
    {
     "name": "stdout",
     "output_type": "stream",
     "text": [
      "Got connection <ssl.SSLSocket fd=91, family=AddressFamily.AF_INET, type=SocketKind.SOCK_STREAM, proto=0, laddr=('127.0.0.1', 8100), raddr=('127.0.0.1', 40112)> ('127.0.0.1', 40112)\n",
      "oi\n",
      "Connection closed\n",
      "\n",
      "Got connection <ssl.SSLSocket fd=91, family=AddressFamily.AF_INET, type=SocketKind.SOCK_STREAM, proto=0, laddr=('127.0.0.1', 8100), raddr=('127.0.0.1', 40114)> ('127.0.0.1', 40114)\n"
     ]
    }
   ],
   "source": [
    "import socket\n",
    "from socket import AF_INET, SOCK_STREAM, SO_REUSEADDR, SOL_SOCKET, SHUT_RDWR\n",
    "import ssl\n",
    "\n",
    "KEYFILE = 'server_key.pem'\n",
    "CERTFILE = 'server_cert.pem'\n",
    "\n",
    "def echo_client(s):\n",
    "    while True:\n",
    "        data = s.recv(8192)\n",
    "        print(data.decode(\"utf-8\"))\n",
    "        if data == b'':\n",
    "            break\n",
    "        s.send(b'This is a response.')\n",
    "        print('Connection closed')\n",
    "    s.close()\n",
    "\n",
    "def echo_server(address):\n",
    "    s = socket.socket(AF_INET, SOCK_STREAM)\n",
    "    s.bind(address)\n",
    "    s.listen(1)\n",
    "    s.setsockopt(SOL_SOCKET, SO_REUSEADDR, 1)\n",
    "\n",
    "    s_ssl = ssl.wrap_socket(s, keyfile=KEYFILE, certfile=CERTFILE, server_side=True)\n",
    "\n",
    "    while True:\n",
    "        try:\n",
    "            (c,a) = s_ssl.accept()\n",
    "            print('Got connection', c, a)\n",
    "            echo_client(c)\n",
    "        except socket.error as e:\n",
    "            print('Error: {0}'.format(e))\n",
    "\n",
    "echo_server((socket.gethostbyname('localhost'), 8100))"
   ]
  },
  {
   "cell_type": "code",
   "execution_count": null,
   "metadata": {},
   "outputs": [],
   "source": []
  }
 ],
 "metadata": {
  "kernelspec": {
   "display_name": "Python 3",
   "language": "python",
   "name": "python3"
  },
  "language_info": {
   "codemirror_mode": {
    "name": "ipython",
    "version": 3
   },
   "file_extension": ".py",
   "mimetype": "text/x-python",
   "name": "python",
   "nbconvert_exporter": "python",
   "pygments_lexer": "ipython3",
   "version": "3.6.5"
  }
 },
 "nbformat": 4,
 "nbformat_minor": 2
}
